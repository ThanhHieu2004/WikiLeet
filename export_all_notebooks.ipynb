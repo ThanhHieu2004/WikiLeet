{
 "cells": [
  {
   "cell_type": "markdown",
   "metadata": {},
   "source": [
    "# Helper File\n",
    "Converts all the notable Jupyter Notebook files to `.py` files in one go."
   ]
  },
  {
   "cell_type": "code",
   "execution_count": null,
   "metadata": {},
   "outputs": [],
   "source": [
    "paths = ['parse_official_question_data.ipynb',\n",
    "         'parse_code_files.ipynb']\n",
    "\n",
    "from os.path import isfile\n",
    "import subprocess\n",
    "for path in paths :\n",
    "    print(f'Converting {path} to script...')\n",
    "    if not isfile(path) :\n",
    "        print('Failed')\n",
    "        print()\n",
    "        continue\n",
    "\n",
    "\n",
    "    subprocess.run(['jupyter', 'nbconvert', '--to', 'script', path])\n",
    "    print(f'Converted {path} to script!')\n",
    "    print()"
   ]
  },
  {
   "cell_type": "code",
   "execution_count": null,
   "metadata": {},
   "outputs": [],
   "source": []
  },
  {
   "cell_type": "code",
   "execution_count": null,
   "metadata": {},
   "outputs": [],
   "source": []
  }
 ],
 "metadata": {
  "kernelspec": {
   "display_name": "Python 3",
   "language": "python",
   "name": "python3"
  },
  "language_info": {
   "codemirror_mode": {
    "name": "ipython",
    "version": 3
   },
   "file_extension": ".py",
   "mimetype": "text/x-python",
   "name": "python",
   "nbconvert_exporter": "python",
   "pygments_lexer": "ipython3",
   "version": "3.10.2"
  }
 },
 "nbformat": 4,
 "nbformat_minor": 2
}
