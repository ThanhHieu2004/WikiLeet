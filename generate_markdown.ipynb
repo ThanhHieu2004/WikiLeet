{
 "cells": [
  {
   "cell_type": "code",
   "execution_count": null,
   "metadata": {},
   "outputs": [],
   "source": [
    "from os.path import join, isfile\n",
    "from os import listdir\n",
    "\n",
    "from os import getenv                           # for environment variables\n",
    "from dotenv import load_dotenv, find_dotenv     # / config purposes (.env file)\n",
    "load_dotenv(find_dotenv(), override=True)\n",
    "\n",
    "import pickle"
   ]
  },
  {
   "cell_type": "markdown",
   "metadata": {},
   "source": [
    "# Functions that take in a question's data and convert it to a markdown with all solutions"
   ]
  },
  {
   "cell_type": "code",
   "execution_count": null,
   "metadata": {},
   "outputs": [],
   "source": [
    "README_PATH                     = getenv('README_PATH')\n",
    "QUESTIONS_FOLDER_FROM_README    = getenv('QUESTIONS_PATH_FROM_README')\n",
    "QUESTIONS_FOLDER                = join(README_PATH, QUESTIONS_FOLDER_FROM_README)\n",
    "\n",
    "MARKDOWN_PATH = getenv('QUESTION_MARKDOWNS_PATH_FROM_README')\n",
    "MARKDOWN_TO_SUBMISSIONS = '../' * MARKDOWN_PATH.count('/') + QUESTIONS_FOLDER_FROM_README\n",
    "\n",
    "\n",
    "print(f'{README_PATH = }')\n",
    "print(f'{QUESTIONS_FOLDER_FROM_README = }')\n",
    "print(f'{QUESTIONS_FOLDER = }')\n",
    "\n",
    "print(f'{MARKDOWN_PATH = }')\n",
    "\n",
    "# print(join(README_PATH, MARKDOWN_PATH))"
   ]
  },
  {
   "cell_type": "code",
   "execution_count": null,
   "metadata": {},
   "outputs": [],
   "source": [
    "\n",
    "import v2"
   ]
  },
  {
   "cell_type": "code",
   "execution_count": null,
   "metadata": {},
   "outputs": [],
   "source": [
    "LANGUAGE_EQUIVS = {\n",
    "    'py': 'Python',\n",
    "    'python': 'Python',\n",
    "    'java': 'Java',\n",
    "    'cpp': 'C++',\n",
    "    'c': 'C',\n",
    "    'sql': 'SQL',\n",
    "    'mysql': 'SQL',\n",
    "    'js': 'JavaScript',\n",
    "    'javascript': 'JavaScript',\n",
    "    'ts': 'TypeScript',\n",
    "    'typescript': 'TypeScript',\n",
    "    'go': 'Go',\n",
    "    'rb': 'Ruby',\n",
    "    'ruby': 'Ruby',\n",
    "    'kt': 'Kotlin',\n",
    "    'kotlin': 'Kotlin',\n",
    "    'swift': 'Swift',\n",
    "    'scala': 'Scala',\n",
    "    'rs': 'Rust',\n",
    "    'rust': 'Rust',\n",
    "    'php': 'PHP',\n",
    "    'cs': 'C#',\n",
    "    'csharp': 'C#',\n",
    "    'm': 'Objective-C',\n",
    "    'objc': 'Objective-C',\n",
    "    'r': 'R',\n",
    "    'racket': 'Racket',\n",
    "    'lua': 'Lua',\n",
    "    'perl': 'Perl',\n",
    "    'sh': 'Bash',\n",
    "    'bash': 'Bash'\n",
    "}"
   ]
  },
  {
   "cell_type": "code",
   "execution_count": null,
   "metadata": {},
   "outputs": [],
   "source": [
    "question_data_folder    = getenv('QUESTION_DATA_PATH')\n",
    "question_topics_file    = getenv('LEETCODE_QUESTION_TOPICS')\n",
    "question_details_file   = getenv('LEETCODE_QUESTION_DETAILS')"
   ]
  },
  {
   "cell_type": "code",
   "execution_count": null,
   "metadata": {},
   "outputs": [],
   "source": [
    "if not isfile(join(question_data_folder, question_topics_file) or \n",
    "              join(question_data_folder, question_details_file)) :\n",
    "    print('Rerunning json-to-pkl parse and export due to the file(s) not being found.')\n",
    "    print()\n",
    "    import parse_official_question_data\n",
    "    \n",
    "if not isfile(join(question_data_folder, question_topics_file) or\n",
    "              join(question_data_folder, question_details_file)) :\n",
    "    print('\\nError in parsing official question data. Exiting...')\n",
    "    exit()\n",
    "else : \n",
    "    print('\\nFiles found. Importing now...\\n')"
   ]
  },
  {
   "cell_type": "code",
   "execution_count": null,
   "metadata": {},
   "outputs": [],
   "source": [
    "# schema: key-int(questionNumber)   val=List[str](topics)\n",
    "questionTopicsDict = None\n",
    "with open(join(question_data_folder, question_topics_file), 'rb') as fp:\n",
    "    questionTopicsDict = pickle.load(fp)\n",
    "    print('Question Topic dictionary')\n",
    "    print(questionTopicsDict)\n",
    "\n",
    "\n",
    "# schema: key=int(questionNumber)   val=(title, titleSlug, paidOnly, difficulty, acRate)\n",
    "questionDetailsDict = None\n",
    "with open(join(question_data_folder, question_details_file), 'rb') as fp:\n",
    "    questionDetailsDict = pickle.load(fp)\n",
    "    print('Question Details dictionary')\n",
    "    print(questionDetailsDict)"
   ]
  },
  {
   "cell_type": "code",
   "execution_count": null,
   "metadata": {},
   "outputs": [],
   "source": [
    "questionData = v2.questionData\n",
    "\n",
    "print(questionDetailsDict)\n",
    "\n",
    "# MARKDOWN_TO_SUBMISSIONS\n",
    "def generate_markdown(questionNo: int, questionData: dict) -> bool :\n",
    "    if questionNo in questionData :\n",
    "        questionData = questionData[questionNo]\n",
    "\n",
    "    title = questionData[\"title\"][questionData[\"title\"].find('[') + 1:questionData[\"title\"].find(']')]\n",
    "    title = f'{questionNo}. {title}'\n",
    "\n",
    "    print(f'{title = }')\n",
    "    \n",
    "    generate_file_name = f'_{title}.md'\n",
    "    generate_path = join(README_PATH, MARKDOWN_PATH, generate_file_name)\n",
    "\n",
    "    with open(generate_path, 'w') as f :\n",
    "        f.write(f'# {questionNo}. {questionData[\"title\"]}\\n\\n')\n",
    "\n",
    "        f.write(f'> *To see the question prompt, click the title.*\\n\\n')\n",
    "\n",
    "        f.write(f'**Topics:** ' + ', '.join(questionTopicsDict[questionNo]) + '\\n\\n')\n",
    "        acrate = questionDetailsDict[questionNo][4]\n",
    "        f.write(f'**AC %:** ' + f'{str(acrate)}' + '\\n\\n\\n')\n",
    "\n",
    "        if 'contextFile' in questionData:\n",
    "            with open(questionData['contextFile'], 'r') as contextFile:\n",
    "                f.write(contextFile.read())\n",
    "            f.write('\\n\\n')\n",
    "\n",
    "        print(questionData['solutions'])\n",
    "        \n",
    "\n",
    "        f.write(f'## Solutions\\n\\n')\n",
    "        for lang, solutions in questionData['solutions'].items() :\n",
    "            solutions.sort()\n",
    "            for solution in solutions :\n",
    "                name = solution[solution.find('/') + 1:]\n",
    "                f.write(f'- [{name}](<{join(README_PATH, solution)}>)\\n')\n",
    "\n",
    "        for lang, solutions in questionData['solutions'].items() :\n",
    "            if lang.lower() in LANGUAGE_EQUIVS :\n",
    "                lang = LANGUAGE_EQUIVS[lang.lower()]\n",
    "            f.write(f'### {lang}\\n')\n",
    "            for solution in solutions :\n",
    "                name = solution.rfind('/') + 1\n",
    "                f.write(f'#### [{solution[name:]}](<{join(README_PATH, solution)}>)\\n')\n",
    "                f.write(f'```{lang}\\n')\n",
    "                with open(join(README_PATH, solution), 'r') as solutionFile:\n",
    "                    f.write(solutionFile.read())\n",
    "                f.write('\\n```\\n\\n')\n"
   ]
  },
  {
   "cell_type": "code",
   "execution_count": null,
   "metadata": {},
   "outputs": [],
   "source": [
    "import random\n",
    "for i in range(1, 10) :\n",
    "    test_question = random.choice(list(questionData.keys()))\n",
    "    generate_markdown(test_question, questionData[test_question])"
   ]
  },
  {
   "cell_type": "code",
   "execution_count": null,
   "metadata": {},
   "outputs": [],
   "source": []
  }
 ],
 "metadata": {
  "kernelspec": {
   "display_name": "Python 3",
   "language": "python",
   "name": "python3"
  },
  "language_info": {
   "codemirror_mode": {
    "name": "ipython",
    "version": 3
   },
   "file_extension": ".py",
   "mimetype": "text/x-python",
   "name": "python",
   "nbconvert_exporter": "python",
   "pygments_lexer": "ipython3",
   "version": "3.10.2"
  }
 },
 "nbformat": 4,
 "nbformat_minor": 2
}
