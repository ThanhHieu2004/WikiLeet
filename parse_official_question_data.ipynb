{
 "cells": [
  {
   "cell_type": "code",
   "execution_count": null,
   "metadata": {},
   "outputs": [],
   "source": [
    "import pandas as kungfupanda\n",
    "from os import listdir\n",
    "from os.path import isfile, join\n",
    "import pickle\n",
    "\n",
    "from os import getenv                           # for environment variables\n",
    "from dotenv import load_dotenv, find_dotenv     # / config purposes (.env file)\n",
    "load_dotenv(find_dotenv(), override=True)"
   ]
  },
  {
   "cell_type": "markdown",
   "metadata": {},
   "source": [
    "# Leetcode Question Data Parsing\n",
    "\n",
    "The `.json` file in this repository is pulled straight from Leetcode's GraphQL. This Notebook parses the data, extracting the relevant data, and stores the newly formed dictionaries it in `.pkl` files for the `Progress_Updater.ipynb` process to make use of later. \n"
   ]
  },
  {
   "cell_type": "code",
   "execution_count": null,
   "metadata": {},
   "outputs": [],
   "source": [
    "def parseLeetcodeQuestionJSON() -> None :\n",
    "    QUESTION_DATA_FOLDER_PATH = getenv('QUESTION_DATA_PATH')\n",
    "    print(f'{QUESTION_DATA_FOLDER_PATH = }')\n",
    "\n",
    "    jsonFiles = [join(QUESTION_DATA_FOLDER_PATH, f) for f in listdir(QUESTION_DATA_FOLDER_PATH) \n",
    "                                                    if isfile(join(QUESTION_DATA_FOLDER_PATH, f)) and f.endswith('.json')]\n",
    "    print(f'JSONs found:', jsonFiles)\n",
    "\n",
    "    # There should only be one file\n",
    "    dataFile = jsonFiles[0]\n",
    "    print('File to use:\\t', dataFile)\n",
    "\n",
    "\n",
    "    questionList        = kungfupanda.read_json(dataFile)\n",
    "    temp                = questionList.get('data').get('problemsetQuestionList')\n",
    "    \n",
    "    totalQuestionCount  = temp.get('total')\n",
    "    questions           = temp.get('questions')\n",
    "\n",
    "    questionDetails = {}\n",
    "    questionTopics  = {}\n",
    "\n",
    "    # frontendQuestionId : (title, titleSlug, paidOnly, difficulty, acRate)\n",
    "    for question in questions :\n",
    "        questionNo  = int(question.get('frontendQuestionId'))       # int\n",
    "        title       = str(question.get('title'))                    # str\n",
    "        titleSlug   = str(question.get('titleSlug'))                # str\n",
    "        paidOnly    = bool(question.get('paidOnly'))                # bool\n",
    "        difficulty  = str(question.get('difficulty'))               # str (Easy, Medium, Hard)\n",
    "        acRate      = round(float(question.get('acRate')), 3)       # float - 3 decimal places\n",
    "\n",
    "        questionDetails[questionNo] = (title, titleSlug, paidOnly, difficulty, acRate)\n",
    "\n",
    "        topicList = []\n",
    "        for topic in question.get('topicTags') :\n",
    "            topicList.append(topic.get('name'))\n",
    "        \n",
    "        questionTopics[questionNo] = topicList\n",
    "\n",
    "    print(f'Total questions found:\\t{totalQuestionCount}')\n",
    "    print(questionDetails)\n",
    "    print(questionTopics)\n",
    "\n",
    "    with open(join(QUESTION_DATA_FOLDER_PATH, 'leetcode_question_details.pkl'), 'wb') as fp:\n",
    "        pickle.dump(questionDetails, fp)\n",
    "        print('Question Details saved successfully to file')\n",
    "        \n",
    "    with open(join(QUESTION_DATA_FOLDER_PATH, 'leetcode_question_topics.pkl'), 'wb') as fp:\n",
    "        pickle.dump(questionTopics, fp)\n",
    "        print('Question Topics saved successfully to file')"
   ]
  }
 ],
 "metadata": {
  "kernelspec": {
   "display_name": "Python 3",
   "language": "python",
   "name": "python3"
  },
  "language_info": {
   "codemirror_mode": {
    "name": "ipython",
    "version": 3
   },
   "file_extension": ".py",
   "mimetype": "text/x-python",
   "name": "python",
   "nbconvert_exporter": "python",
   "pygments_lexer": "ipython3",
   "version": "3.10.2"
  }
 },
 "nbformat": 4,
 "nbformat_minor": 2
}
