{
 "cells": [
  {
   "cell_type": "code",
   "execution_count": null,
   "metadata": {},
   "outputs": [],
   "source": [
    "import pandas as kungfupanda\n",
    "from os import listdir\n",
    "from os.path import isfile, join\n",
    "import re\n",
    "from typing import List"
   ]
  },
  {
   "cell_type": "markdown",
   "metadata": {},
   "source": [
    "# Notebook for Updating Stats and Links on README\n",
    "This is just a helper file I use to automatically link my solution files to the [README.md](README.md) page, formatting the links and details into markdown tables and calculating \"solved\" stats in the process. Just makes my life easier and I find it satisfying seeing the links lol. \n",
    "\n",
    "Just something I whipped up for fun. :)"
   ]
  },
  {
   "cell_type": "code",
   "execution_count": null,
   "metadata": {},
   "outputs": [],
   "source": [
    "leetcodePath            = '../my-submissions/'\n",
    "leetcodeFiles           = [x for x in listdir(leetcodePath) if isfile(join(leetcodePath, x))]\n",
    "\n",
    "contestFolders          = [x for x in listdir(leetcodePath) if not isfile(join(leetcodePath, x))]\n",
    "contestLeetcodeFiles    = []\n",
    "\n",
    "for contestFolder in contestFolders :\n",
    "    contestLeetcodeFiles.extend([(contestFolder, fileName) for fileName in listdir(join(leetcodePath, contestFolder)) \n",
    "                                                            if isfile(join(leetcodePath, contestFolder, fileName))])\n",
    "\n",
    "leetcodeFiles.sort()\n",
    "contestLeetcodeFiles.sort()\n",
    "\n",
    "print(leetcodeFiles)\n",
    "print(f'Total of {len(leetcodeFiles)} files found.')\n",
    "\n",
    "print(contestLeetcodeFiles)\n",
    "print(f'Total of {len(contestLeetcodeFiles)} contest files found.')"
   ]
  },
  {
   "cell_type": "markdown",
   "metadata": {},
   "source": [
    "## Helper Methods\n",
    "\n",
    "AddCase $\\rightarrow$ takes information for a new question file and formats it accordingly for a row.\n",
    "\n",
    "UpdateLanguage $\\rightarrow$ if a question already has a solution, this is called instead to insert the new file link to the existing row details."
   ]
  },
  {
   "cell_type": "code",
   "execution_count": null,
   "metadata": {},
   "outputs": [],
   "source": [
    "# Categories\n",
    "categories = set(['Daily', 'Weekly Premium', 'Contest', 'Favourite'])"
   ]
  },
  {
   "cell_type": "code",
   "execution_count": null,
   "metadata": {},
   "outputs": [],
   "source": [
    "def addCase(level:      str, \n",
    "            number:     int, \n",
    "            title:      str, \n",
    "            category:   str,\n",
    "            language:   str,\n",
    "            path:       str) :\n",
    "\n",
    "    # Level, Number, Title, Python, Java, MySQL, Other\n",
    "    output = [level, number, title, category, '', '', '', '', '']\n",
    "    path = f'[{language}](<{path}>)'\n",
    "    \n",
    "    match language.lower() :\n",
    "        case 'python' | 'py':\n",
    "            output[4] = path\n",
    "        case 'java':\n",
    "            output[5] = path\n",
    "        case 'mysql' | 'sql' :\n",
    "            output[6] = path\n",
    "        case 'c' :\n",
    "            output[7] = path\n",
    "        case _:\n",
    "            output[8] = path\n",
    "\n",
    "    return output"
   ]
  },
  {
   "cell_type": "code",
   "execution_count": null,
   "metadata": {},
   "outputs": [],
   "source": [
    "def updateLanguage(orig, language, path) :  \n",
    "    index = -1  \n",
    "    match language.lower() :\n",
    "        case 'python' | 'py':\n",
    "            index = 4\n",
    "        case 'java':\n",
    "            index = 5\n",
    "        case 'mysql' | 'sql' :\n",
    "            index = 6\n",
    "        case 'c' :\n",
    "            index = 7\n",
    "        case _:\n",
    "            index = 8\n",
    "\n",
    "    path = f'[{language}](<{path}>)'\n",
    "    orig[index] = f'{orig[index]}, {path}' if not orig[index] == '' \\\n",
    "                                           else path\n",
    "\n",
    "    return orig"
   ]
  },
  {
   "cell_type": "code",
   "execution_count": null,
   "metadata": {},
   "outputs": [],
   "source": [
    "def updateCategory(orig, category) : \n",
    "    if category.lower() in orig[3].lower() :\n",
    "        return orig\n",
    "\n",
    "    orig[3] = f'{orig[3]}, {category}' if not orig[3] == '' \\\n",
    "                                      else category\n",
    "    return orig"
   ]
  },
  {
   "cell_type": "markdown",
   "metadata": {},
   "source": [
    "# Retrieving Question Topics and Details from PICKLE File"
   ]
  },
  {
   "cell_type": "code",
   "execution_count": null,
   "metadata": {},
   "outputs": [],
   "source": [
    "import pickle           # picke is used to pull the stored dict\n",
    "\n",
    "question_data_folder    = 'question_data/'\n",
    "question_details_file   = 'leetcode_question_details.pkl'\n",
    "question_topics_file    = 'leetcode_question_topics.pkl'"
   ]
  },
  {
   "cell_type": "code",
   "execution_count": null,
   "metadata": {},
   "outputs": [],
   "source": [
    "# schema: key=int(questionNumber)   val=(title, titleSlug, paidOnly, difficulty, acRate)\n",
    "with open(join(question_data_folder, question_details_file), 'rb') as fp:\n",
    "    questionDetailsDict = pickle.load(fp)\n",
    "    print('Question Details dictionary')\n",
    "    print(questionDetailsDict)\n",
    "\n",
    "# schema: key-int(questionNumber)   val=List[str](topics)\n",
    "with open(join(question_data_folder, question_topics_file), 'rb') as fp:\n",
    "    questionTopicsDict = pickle.load(fp)\n",
    "    print('Question Topic dictionary')\n",
    "    print(questionTopicsDict)"
   ]
  },
  {
   "cell_type": "markdown",
   "metadata": {},
   "source": [
    "# Parsing Files\n",
    "Question file parsing occurs here. It organizes it into 3 different lists, separated by difficulty and sorted by question number afterwards."
   ]
  },
  {
   "cell_type": "code",
   "execution_count": null,
   "metadata": {},
   "outputs": [],
   "source": [
    "easyQuestions   = [] \n",
    "mediumQuestions = []\n",
    "hardQuestions   = []\n",
    "\n",
    "questionsVisited = set()\n",
    "\n",
    "counter = {}\n",
    "moreThanOnce = 0"
   ]
  },
  {
   "cell_type": "code",
   "execution_count": null,
   "metadata": {},
   "outputs": [],
   "source": [
    "def parseCase(leetcodeFile: str, altTitle: str, subFolderPath: str, contest: bool) -> bool:\n",
    "    level = leetcodeFile[0].lower()\n",
    "    number = int(re.sub(\"[^0-9]\", \"\", leetcodeFile.split(' ')[0]))  # Strips all non-numeric characters and any that\n",
    "                                                                    # follow the question number e.g. e123 v1 becomes 123\n",
    "\n",
    "    title = f'[{questionDetailsDict[number][0]}](<https://leetcode.com/problems/{questionDetailsDict[number][1]}>)'\n",
    "    category = ''\n",
    "    language = leetcodeFile[leetcodeFile.find('.') + 1:]\n",
    "    path = join(leetcodePath, subFolderPath, leetcodeFile).replace(\"\\\\\", \"/\")\n",
    "    # print(path)\n",
    "\n",
    "    if len(altTitle) > 0 :\n",
    "        title = altTitle\n",
    "    if contest == True :\n",
    "        temp = re.findall('q\\d{1}', leetcodeFile)\n",
    "        if not len(temp) == 0 :\n",
    "            title += ' - ' + temp[0]\n",
    "        print(title)\n",
    "\n",
    "    if contest :\n",
    "        category = 'Contest'\n",
    "    else :\n",
    "        for cat in categories :\n",
    "            if cat.lower() in leetcodeFile.lower() :\n",
    "                category = cat\n",
    "                break\n",
    "\n",
    "\n",
    "    counter[(level, language)] = counter.get((level, language), 0) + 1 # For later reference\n",
    "\n",
    "    if number in questionsVisited : # if solution already found for this question\n",
    "        global moreThanOnce\n",
    "        moreThanOnce += 1\n",
    "\n",
    "        match level :\n",
    "            case 'e' :\n",
    "                for i in range(len(easyQuestions)) :\n",
    "                    if easyQuestions[i][1] == number :\n",
    "                        easyQuestions[i] = updateLanguage(easyQuestions[i], language, path)\n",
    "                        break\n",
    "            case 'm' :\n",
    "                for i in range(len(mediumQuestions)) :\n",
    "                    if mediumQuestions[i][1] == number :\n",
    "                        mediumQuestions[i] = updateLanguage(mediumQuestions[i], language, path)\n",
    "                        break\n",
    "            case 'h' :\n",
    "                for i in range(len(hardQuestions)) :\n",
    "                    if hardQuestions[i][1] == number :\n",
    "                        hardQuestions[i] = updateLanguage(hardQuestions[i], language, path)\n",
    "                        break\n",
    "        \n",
    "        if category != '' :\n",
    "            match level :\n",
    "                case 'e' :\n",
    "                    for i in range(len(easyQuestions)) :\n",
    "                        if easyQuestions[i][1] == number :\n",
    "                            easyQuestions[i] = updateCategory(easyQuestions[i], category)\n",
    "                            break\n",
    "                case 'm' :\n",
    "                    for i in range(len(mediumQuestions)) :\n",
    "                        if mediumQuestions[i][1] == number :\n",
    "                            mediumQuestions[i] = updateCategory(mediumQuestions[i], category)\n",
    "                            break\n",
    "                case 'h' :\n",
    "                    for i in range(len(hardQuestions)) :\n",
    "                        if hardQuestions[i][1] == number :\n",
    "                            hardQuestions[i] = updateCategory(hardQuestions[i], category)\n",
    "                            break\n",
    "\n",
    "        return True\n",
    "\n",
    "    questionsVisited.add(number)\n",
    "\n",
    "    match level :\n",
    "        case 'e' :\n",
    "            easyQuestions.append(addCase('Easy', number, title, category, language, path))\n",
    "        case 'm' :\n",
    "            mediumQuestions.append(addCase('Medium', number, title, category, language, path))\n",
    "        case 'h' :\n",
    "            hardQuestions.append(addCase('Hard', number, title, category, language, path))\n",
    "\n",
    "    return True"
   ]
  },
  {
   "cell_type": "code",
   "execution_count": null,
   "metadata": {},
   "outputs": [],
   "source": [
    "# Parsing primary files\n",
    "for leetcodeFile in leetcodeFiles :\n",
    "    parseCase(leetcodeFile, '', '', False)"
   ]
  },
  {
   "cell_type": "code",
   "execution_count": null,
   "metadata": {},
   "outputs": [],
   "source": [
    "# Parsing contest files & folforders\n",
    "\n",
    "for leetcodeContestFile in contestLeetcodeFiles :\n",
    "    contestFolder, leetcodeFile = leetcodeContestFile\n",
    "    parseCase(leetcodeFile, contestFolder, contestFolder, True)"
   ]
  },
  {
   "cell_type": "code",
   "execution_count": null,
   "metadata": {},
   "outputs": [],
   "source": [
    "print(easyQuestions)\n",
    "print(mediumQuestions)\n",
    "print(hardQuestions)"
   ]
  },
  {
   "cell_type": "code",
   "execution_count": null,
   "metadata": {},
   "outputs": [],
   "source": [
    "# Sorting by question number\n",
    "easyQuestions = sorted(easyQuestions, key=lambda x: x[1])\n",
    "mediumQuestions = sorted(mediumQuestions, key=lambda x: x[1])\n",
    "hardQuestions = sorted(hardQuestions, key=lambda x: x[1])"
   ]
  },
  {
   "cell_type": "markdown",
   "metadata": {},
   "source": [
    "# List-Based Categories\n",
    "Updating `Category` columns based on the lists in the `Lists` directory."
   ]
  },
  {
   "cell_type": "code",
   "execution_count": null,
   "metadata": {},
   "outputs": [],
   "source": [
    "listsDir = 'Lists/'\n",
    "\n",
    "listFileNames = [x for x in listdir(listsDir) if isfile(join(listsDir, x)) and not x.startswith('.')]\n",
    "print(listFileNames)"
   ]
  },
  {
   "cell_type": "code",
   "execution_count": null,
   "metadata": {},
   "outputs": [],
   "source": [
    "''' Format for lists file is as follows:\n",
    "\n",
    "        [Question #]. [Question Name]\n",
    "\n",
    "        [Easy, Med., Hard]\n",
    "        Topic1\n",
    "        Topic2\n",
    "        Topic3\n",
    "        ...\n",
    "'''\n",
    "\n",
    "def getList(fileName, filePath) -> set[int] :\n",
    "    output = set() # can change to dict later if we want to output category info\n",
    "\n",
    "    count = 0\n",
    "    with open(filePath, 'r') as file :\n",
    "        lines = file.readlines()\n",
    "        for line in lines :\n",
    "            if re.match(r'\\d{1,4}\\.', line) :\n",
    "                count += 1\n",
    "                output.add(int(line[:line.find('.')]))\n",
    "    print(f'{fileName}: ', len(output), output)\n",
    "    return output\n",
    "    "
   ]
  },
  {
   "cell_type": "code",
   "execution_count": null,
   "metadata": {},
   "outputs": [],
   "source": [
    "listData = {}\n",
    "for file in listFileNames :\n",
    "    listData[file] = getList(file, join(listsDir, file))\n",
    "\n",
    "listDataMerged = {}\n",
    "itemsPerListData = {}               # Record of how many questions are in each list\n",
    "itemsPerListDataCount = {}          # Counting how many found in completed questions\n",
    "\n",
    "for listName, val in listData.items() :\n",
    "    itemsPerListDataCount[listName] = 0\n",
    "    itemsPerListData[listName] = len(val)\n",
    "    for question in val :\n",
    "        if question in listDataMerged :\n",
    "            listDataMerged[question] += f', {listName}'\n",
    "        else :\n",
    "            listDataMerged[question] = listName\n",
    "\n",
    "print(listDataMerged)\n",
    "\n",
    "listData = None # Free up memory"
   ]
  },
  {
   "cell_type": "code",
   "execution_count": null,
   "metadata": {},
   "outputs": [],
   "source": [
    "def updateListCount(lists: str) -> None :\n",
    "    lists = lists.split(', ')\n",
    "    for l in lists :\n",
    "        itemsPerListDataCount[l] += 1"
   ]
  },
  {
   "cell_type": "code",
   "execution_count": null,
   "metadata": {},
   "outputs": [],
   "source": [
    "def updateQuestionTypeWithLists(listData: dict[int, str], questions: List[List[str]]) -> None :\n",
    "    for i in range(len(questions)) :\n",
    "        if questions[i][1] in listData :\n",
    "            questions[i] = updateCategory(questions[i], listData[questions[i][1]])\n",
    "            updateListCount(listData[questions[i][1]])"
   ]
  },
  {
   "cell_type": "code",
   "execution_count": null,
   "metadata": {},
   "outputs": [],
   "source": [
    "updateQuestionTypeWithLists(listDataMerged, easyQuestions)\n",
    "updateQuestionTypeWithLists(listDataMerged, mediumQuestions)\n",
    "updateQuestionTypeWithLists(listDataMerged, hardQuestions)\n",
    "\n",
    "print([f'{x}: {itemsPerListDataCount.get(x)}/{itemsPerListData.get(x)}' for x in itemsPerListData])"
   ]
  },
  {
   "cell_type": "markdown",
   "metadata": {},
   "source": [
    "# DataFrames\n",
    "Conversion into DataFrames and declaration of respective column headers occurs here."
   ]
  },
  {
   "cell_type": "code",
   "execution_count": null,
   "metadata": {},
   "outputs": [],
   "source": [
    "columns = ['Level', \n",
    "           '#', \n",
    "           'Title', \n",
    "           'Category',\n",
    "           'Python', \n",
    "           'Java', \n",
    "           'MySQL', \n",
    "           'C',\n",
    "           'Other'\n",
    "           ]\n",
    "typeClarification = {'Level': 'str', \n",
    "                     '#': 'int', \n",
    "                     'Title': 'str', \n",
    "                     'Category': 'str',\n",
    "                     'Python': 'str', \n",
    "                     'Java': 'str', \n",
    "                     'MySQL': 'str', \n",
    "                     'C': 'str',\n",
    "                     'Other': 'str'\n",
    "                     }\n",
    "\n",
    "dfEasy = kungfupanda.DataFrame(data=easyQuestions, columns=columns)\n",
    "dfMedium = kungfupanda.DataFrame(data=mediumQuestions, columns=columns)\n",
    "dfHard = kungfupanda.DataFrame(data=hardQuestions, columns=columns)\n",
    "\n",
    "dfEasy = dfEasy.astype(typeClarification)\n",
    "dfMedium = dfMedium.astype(typeClarification)\n",
    "dfHard = dfHard.astype(typeClarification)\n"
   ]
  },
  {
   "cell_type": "code",
   "execution_count": null,
   "metadata": {},
   "outputs": [],
   "source": [
    "# Helper method for outputing just to make code cleaner\n",
    "def subLevel(level: str) -> str :\n",
    "    match level.lower() :\n",
    "        case 'e' :\n",
    "            return 'Easy'\n",
    "        case 'm' :\n",
    "            return 'Medium'\n",
    "        case 'h' :\n",
    "            return 'Hard'\n",
    "        case _ :\n",
    "            return 'Unknown'"
   ]
  },
  {
   "cell_type": "code",
   "execution_count": null,
   "metadata": {},
   "outputs": [],
   "source": [
    "print(counter, sum(counter.values()))\n",
    "print(len(questionsVisited))\n",
    "print(moreThanOnce)\n",
    "\n",
    "rows = ['e', 'm', 'h']\n",
    "columns = sorted(list(set([x[1] for x in counter.keys()])))\n",
    "\n",
    "# Initialization of stats table + column header initialization\n",
    "statsMatrix = [[None] * (len(columns) + 2 + 1)] * (len(rows) + 2)\n",
    "statsMatrix[0] = [''] + [f'**{x.title()}**' for x in columns] + ['**Total**', '**Total Unique**']"
   ]
  },
  {
   "cell_type": "markdown",
   "metadata": {},
   "source": [
    "## Stats by Group Parsing\n",
    "Going row by row to calculate the respective values :v"
   ]
  },
  {
   "cell_type": "code",
   "execution_count": null,
   "metadata": {},
   "outputs": [],
   "source": [
    "temp = [easyQuestions, mediumQuestions, hardQuestions] # For summing number of unique question later\n",
    "\n",
    "for i in range(1, len(rows) + 1) :\n",
    "    statsMatrix[i] = [f'**{subLevel(rows[i - 1])}**'] \\\n",
    "                     + [counter.get((rows[i - 1], columns[j]), 0) for j in range(len(columns))] \\\n",
    "                     + [f'*{sum([counter.get((rows[i - 1], x), 0) for x in columns])}*'] \\\n",
    "                     + [f'*{len(temp[i - 1])}*']\n",
    "\n",
    "\n",
    "# Total sums at bottom for each language and TOTAL TOTAL\n",
    "# Total including double counts for languages\n",
    "''' Line by line:   Row Header\n",
    "                    Sum for each language\n",
    "                    Total everything\n",
    "                    Total unique everything\n",
    "'''\n",
    "statsMatrix[-1] = ['**Total**'] \\\n",
    "                  + [f'*{sum([counter.get((x, y), 0) for x in rows])}*' for y in columns] \\\n",
    "                  + [f'**{sum(counter.values())}**'] \\\n",
    "                  + [f'**{sum([len(x) for x in temp])}**']\n",
    "temp = None"
   ]
  },
  {
   "cell_type": "code",
   "execution_count": null,
   "metadata": {},
   "outputs": [],
   "source": [
    "# Conversion to DataFrame\n",
    "dfColumns = statsMatrix[0]\n",
    "statsMatrix = [statsMatrix[i] for i in range(1, len(statsMatrix))]\n",
    "\n",
    "statsMatrixDf = kungfupanda.DataFrame(data=statsMatrix, columns=dfColumns)\n",
    "print(statsMatrixDf.to_markdown(index=False))"
   ]
  },
  {
   "cell_type": "markdown",
   "metadata": {},
   "source": [
    "# Counts per List\n",
    "These are for lists such as my favourites, the Neetcode150, etc."
   ]
  },
  {
   "cell_type": "code",
   "execution_count": null,
   "metadata": {},
   "outputs": [],
   "source": [
    "# Get alternate names\n",
    "def getAlternateNames() -> dict[str, str] :\n",
    "    output = {}\n",
    "    with open(join(listsDir, '.AltNames'), 'r') as file :\n",
    "        lines = file.readlines()\n",
    "        for line in lines :\n",
    "            line = line.strip()\n",
    "            if len(line) == 0 :\n",
    "                continue\n",
    "            splitLine = line.split('=')\n",
    "            output[splitLine[0]] = ' '.join(splitLine[1:])\n",
    "    print(output)\n",
    "    return output"
   ]
  },
  {
   "cell_type": "code",
   "execution_count": null,
   "metadata": {},
   "outputs": [],
   "source": [
    "# No. Completed / No. Total\n",
    "print([f'{x}: {itemsPerListDataCount.get(x)}/{itemsPerListData.get(x)}' for x in itemsPerListData])\n",
    "\n",
    "altNames = getAlternateNames()\n",
    "\n",
    "listStatOutputs = []\n",
    "for key in itemsPerListData :\n",
    "    altName = altNames.get(key, key)\n",
    "    if altName != key :\n",
    "        altName = f'{altName} ({key})'\n",
    "    listStatOutputs.append(f'- **{altName}**: {itemsPerListDataCount.get(key)}/{itemsPerListData.get(key)}')\n",
    "\n",
    "print(listStatOutputs)"
   ]
  },
  {
   "cell_type": "markdown",
   "metadata": {},
   "source": [
    "# Outputing to README File\n",
    "Takes all the above and overwrites the current [README.md](README.md) file with the data calculated above.\n",
    "\n",
    "Inputs values in order of:\n",
    "- Profile link\n",
    "- Stats\n",
    "- Stat clarification\n",
    "- Question link tables Easy-Medium-Hard\n",
    "\n",
    "Uses the built-in DataFrame `.to_markdown()` for outputting."
   ]
  },
  {
   "cell_type": "code",
   "execution_count": null,
   "metadata": {},
   "outputs": [],
   "source": [
    "readmePath = '../README.md'\n",
    "\n",
    "with open(readmePath, 'w') as file :\n",
    "    file.write('# LeetCode Records\\n\\n')\n",
    "\n",
    "    file.write('Profile: [Zanger](https://leetcode.com/u/Zanger/)\\n\\n')\n",
    "\n",
    "    file.write('> *Note: if there are multiple files, it\\'s likely a case of me having multiple solutions.*\\n\\n')\n",
    "\n",
    "    file.write('## Stats by Language and Level\\n\\n')\n",
    "    file.write(statsMatrixDf.to_markdown(index=False))\n",
    "    file.write(f'\\n\\nQuestions done in multiple languages and/or multiple ways:\\t{moreThanOnce}\\n<br>')\n",
    "    file.write(f'\\nUnique questions done:\\t\\t**{int(re.sub(\"[^0-9]\", \"\", statsMatrix[len(statsMatrix) - 1][len(statsMatrix[0]) - 2])) - moreThanOnce}**')\n",
    "\n",
    "    file.write('\\n\\n\\n')\n",
    "\n",
    "    file.write('## Category Notes\\n')\n",
    "    file.write('1. **Daily** - Daily challenge questions that were done on the day of\\n')\n",
    "    file.write('2. **Weekly Premium** - Weekly premium questions that were done on week of\\n')\n",
    "    file.write('3. **Contest** - Questions that were done during a live contest\\n')\n",
    "    # file.write('4. **Favourite** - Questions that I liked and wanted to keep a record of\\n')\n",
    "    file.write('\\n')\n",
    "\n",
    "    file.write('## Additional Categories Stats\\n')\n",
    "    file.write('\\n'.join(listStatOutputs))\n",
    "    file.write('\\n\\n')\n",
    "\n",
    "\n",
    "\n",
    "    file.write('## Easy\\n')\n",
    "    file.write(dfEasy.to_markdown(index=False))\n",
    "\n",
    "    file.write('\\n\\n## Medium\\n')\n",
    "    file.write(dfMedium.to_markdown(index=False))\n",
    "\n",
    "    file.write('\\n\\n## Hard\\n')\n",
    "    file.write(dfHard.to_markdown(index=False))"
   ]
  },
  {
   "cell_type": "code",
   "execution_count": null,
   "metadata": {},
   "outputs": [],
   "source": []
  }
 ],
 "metadata": {
  "kernelspec": {
   "display_name": "Python 3",
   "language": "python",
   "name": "python3"
  },
  "language_info": {
   "codemirror_mode": {
    "name": "ipython",
    "version": 3
   },
   "file_extension": ".py",
   "mimetype": "text/x-python",
   "name": "python",
   "nbconvert_exporter": "python",
   "pygments_lexer": "ipython3",
   "version": "3.10.2"
  }
 },
 "nbformat": 4,
 "nbformat_minor": 2
}
