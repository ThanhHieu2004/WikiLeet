{
 "cells": [
  {
   "cell_type": "code",
   "execution_count": null,
   "metadata": {},
   "outputs": [],
   "source": [
    "import pandas as kungfupanda                    # pandas\n",
    "from os import listdir                          # for file retrieval\n",
    "from os.path import isfile, join\n",
    "\n",
    "from typing import Set, Dict, List, Tuple       # misc.\n",
    "\n",
    "from os.path import getmtime, getctime           # for file creation and modification times\n",
    "from datetime import datetime\n",
    "import time\n",
    "\n",
    "from os import getenv                           # for environment variables\n",
    "from dotenv import load_dotenv, find_dotenv     # / config purposes (.env file)\n",
    "load_dotenv(find_dotenv(), override=True)\n",
    "\n",
    "import re                                       # for regex file name matching\n",
    "from typing import List                         # misc."
   ]
  },
  {
   "cell_type": "code",
   "execution_count": null,
   "metadata": {},
   "outputs": [],
   "source": [
    "readme_path             = getenv('README_PATH')\n",
    "leetcodePathFromReadme  = getenv('QUESTIONS_PATH_FROM_README')\n",
    "leetcodePathReference   = join(readme_path, leetcodePathFromReadme)\n",
    "leetcodeFiles           = [x for x in listdir(leetcodePathReference) if isfile(join(leetcodePathReference, x))]\n",
    "\n",
    "contestFolders          = [x for x in listdir(leetcodePathReference) if not isfile(join(leetcodePathReference, x))]\n",
    "contestLeetcodeFiles    = []\n",
    "\n",
    "for contestFolder in contestFolders :\n",
    "    contestLeetcodeFiles.extend([(contestFolder, fileName) for fileName in listdir(join(leetcodePathReference, contestFolder)) \n",
    "                                                            if isfile(join(leetcodePathReference, contestFolder, fileName))])\n",
    "\n",
    "leetcodeFiles.sort()\n",
    "contestLeetcodeFiles.sort()\n",
    "\n",
    "\n",
    "# Files for leetcode questions found\n",
    "print(leetcodeFiles)\n",
    "print(f'Total of {len(leetcodeFiles)} files found.')\n",
    "\n",
    "# Files in contest folders found\n",
    "print(contestLeetcodeFiles)\n",
    "print(f'Total of {len(contestLeetcodeFiles)} contest files found.')"
   ]
  },
  {
   "cell_type": "markdown",
   "metadata": {},
   "source": [
    "## Helper Methods\n",
    "\n",
    "AddCase $\\rightarrow$ takes information for a new question file and formats it accordingly for a row.\n",
    "\n",
    "UpdateLanguage $\\rightarrow$ if a question already has a solution, this is called instead to insert the new file link to the existing row details."
   ]
  },
  {
   "cell_type": "code",
   "execution_count": null,
   "metadata": {},
   "outputs": [],
   "source": [
    "# Categories besides those in lists\n",
    "categories = set(['Daily', 'Weekly Premium', 'Contest', 'Favourite'])"
   ]
  },
  {
   "cell_type": "code",
   "execution_count": null,
   "metadata": {},
   "outputs": [],
   "source": [
    "def addCase(level:              str,\n",
    "            number:             int, \n",
    "            title:              str, \n",
    "            categories:         Set[str],\n",
    "            language:           str,\n",
    "            notebook_path:      str,\n",
    "            readme_path:        str) -> dict :\n",
    "\n",
    "    creation_date = time.ctime(getctime(notebook_path))\n",
    "    modification_date = time.ctime(getmtime(notebook_path))\n",
    "\n",
    "    creation_date = datetime.strptime(creation_date, \"%a %b %d %H:%M:%S %Y\")\n",
    "    modification_date = datetime.strptime(modification_date, \"%a %b %d %H:%M:%S %Y\")\n",
    "\n",
    "    # print(f'{level}. {number}. {title}:\\t')\n",
    "    # print(f'{creation_date = }')\n",
    "    # print(f'{modification_date = }')\n",
    "\n",
    "    # I've sometimes encountered weird meta data issues so just as a precaution\n",
    "    if modification_date < creation_date :\n",
    "        creation_date, modification_date = modification_date, creation_date\n",
    "\n",
    "    if not categories :\n",
    "        categories = set()\n",
    "\n",
    "    if 'e' in level.lower() :\n",
    "        level = 'Easy'\n",
    "    elif 'm' in level.lower() : \n",
    "        level = 'Medium'\n",
    "    elif 'h' in level.lower() :\n",
    "        level = 'Hard'\n",
    "    else :\n",
    "        level = 'Unknown'\n",
    "\n",
    "    output = {\n",
    "                'level':                level,\n",
    "                'number':               number,\n",
    "                'title':                title, \n",
    "                'categories':           categories,\n",
    "                'date_done':            creation_date,          # First time completed\n",
    "                'date_modified':        modification_date,      # Most recent date\n",
    "                'solution':             '',\n",
    "                'solutions':            [readme_path],\n",
    "                'languages':            set([language])\n",
    "             }\n",
    "    \n",
    "    # output = [level, number, title, category, '', '', '', '', '']\n",
    "    # path = f'[{language}](<{path}>)'\n",
    "    \n",
    "    # match language.lower() :\n",
    "    #     case 'python' | 'py':\n",
    "    #         output[4] = path\n",
    "    #     case 'java':\n",
    "    #         output[5] = path\n",
    "    #     case 'mysql' | 'sql' :\n",
    "    #         output[6] = path\n",
    "    #     case 'c' :\n",
    "    #         output[7] = path\n",
    "    #     case _:\n",
    "    #         output[8] = path\n",
    "\n",
    "    return output"
   ]
  },
  {
   "cell_type": "code",
   "execution_count": null,
   "metadata": {},
   "outputs": [],
   "source": [
    "def updateQuestion(orig:               dict, \n",
    "                   *,\n",
    "                   language:           str,\n",
    "                   categories:           Set[str],\n",
    "                   notebook_path:      str,\n",
    "                   readme_path:        str) -> dict :  \n",
    "    \n",
    "    # Another question file found\n",
    "    if language and language not in orig['languages'] :\n",
    "        orig['languages'].add(language)\n",
    "\n",
    "        if notebook_path and readme_path :\n",
    "            creation_date = time.ctime(getctime(notebook_path))\n",
    "            modification_date = time.ctime(getmtime(notebook_path))\n",
    "\n",
    "            creation_date = datetime.strptime(creation_date, \"%a %b %d %H:%M:%S %Y\")\n",
    "            modification_date = datetime.strptime(modification_date, \"%a %b %d %H:%M:%S %Y\")\n",
    "\n",
    "            if modification_date < creation_date :\n",
    "                creation_date, modification_date = modification_date, creation_date\n",
    "            \n",
    "            if creation_date < orig['date_done'] :\n",
    "                orig['date_done'] = creation_date\n",
    "            if modification_date > orig['date_modified'] :\n",
    "                orig['date_modified'] = modification_date\n",
    "\n",
    "            orig['solutions'].append(readme_path)\n",
    "    \n",
    "    if categories :\n",
    "        orig['categories'] |= categories\n",
    "\n",
    "    return orig"
   ]
  },
  {
   "cell_type": "markdown",
   "metadata": {},
   "source": [
    "# Retrieving Question Topics and Details from PICKLE File"
   ]
  },
  {
   "cell_type": "code",
   "execution_count": null,
   "metadata": {},
   "outputs": [],
   "source": [
    "import pickle           # picke is used to pull the stored dict\n",
    "\n",
    "question_data_folder    = getenv('QUESTION_DATA_PATH')\n",
    "question_details_file   = getenv('LEETCODE_QUESTION_DETAILS')\n",
    "question_topics_file    = getenv('LEETCODE_QUESTION_TOPICS')"
   ]
  },
  {
   "cell_type": "code",
   "execution_count": null,
   "metadata": {},
   "outputs": [],
   "source": [
    "if not isfile(join(question_data_folder, question_details_file)) or \\\n",
    "   not isfile(join(question_data_folder, question_topics_file)) :\n",
    "    print('Rerunning json-to-pkl parse and export due to the file(s) not being found.')\n",
    "    print()\n",
    "    import parse_official_question_data\n",
    "    \n",
    "if not isfile(join(question_data_folder, question_details_file)) or \\\n",
    "   not isfile (join(question_data_folder, question_topics_file)) :\n",
    "    print('\\nError in parsing official question data. Exiting...')\n",
    "    exit()\n",
    "else : \n",
    "    print('\\nFiles found. Importing now...\\n')"
   ]
  },
  {
   "cell_type": "code",
   "execution_count": null,
   "metadata": {},
   "outputs": [],
   "source": [
    "# schema: key=int(questionNumber)   val=(title, titleSlug, paidOnly, difficulty, acRate)\n",
    "with open(join(question_data_folder, question_details_file), 'rb') as fp:\n",
    "    questionDetailsDict = pickle.load(fp)\n",
    "    print('Question Details dictionary')\n",
    "    print(questionDetailsDict)\n",
    "\n",
    "# schema: key-int(questionNumber)   val=List[str](topics)\n",
    "with open(join(question_data_folder, question_topics_file), 'rb') as fp:\n",
    "    questionTopicsDict = pickle.load(fp)\n",
    "    print('Question Topic dictionary')\n",
    "    print(questionTopicsDict)"
   ]
  },
  {
   "cell_type": "markdown",
   "metadata": {},
   "source": [
    "# Parsing Files\n",
    "Question file parsing occurs here. It organizes it into 3 different lists, separated by difficulty and sorted by question number afterwards."
   ]
  },
  {
   "cell_type": "code",
   "execution_count": null,
   "metadata": {},
   "outputs": [],
   "source": [
    "questionData = {}\n",
    "\n",
    "counter = {}\n",
    "moreThanOnce = 0"
   ]
  },
  {
   "cell_type": "code",
   "execution_count": null,
   "metadata": {},
   "outputs": [],
   "source": [
    "# Parse one leetcode answer file in the submissions folder\n",
    "def parseCase(leetcodeFile:     str, # file name\n",
    "              *,\n",
    "              subFolderPath:    str = '',\n",
    "              altTitle:         str = '',\n",
    "              contest:          bool = False) -> bool:\n",
    "    \n",
    "    level       = leetcodeFile[0].lower()\n",
    "    number      = int(re.sub(\"[^0-9]\", \"\", leetcodeFile.split(' ')[0]))  # Strips non-numeric chars and any that\n",
    "                                                                         # follow the question number\n",
    "                                                                         # e.g. 'e123 v1.py' becomes 123\n",
    "    if number in questionDetailsDict :\n",
    "        title   = f'[{questionDetailsDict[number][0]}](<https://leetcode.com/problems/{questionDetailsDict[number][1]}>)'\n",
    "    else :\n",
    "        title   = f'Question {number}'\n",
    "    categories  = set()\n",
    "    language    = leetcodeFile[leetcodeFile.find('.') + 1:]\n",
    "    path        = join(leetcodePathFromReadme, subFolderPath, leetcodeFile).replace(\"\\\\\", \"/\")\n",
    "\n",
    "    if len(altTitle) > 0 :\n",
    "        title = altTitle\n",
    "\n",
    "    # Question is from a contest folder\n",
    "    if contest :\n",
    "        temp = re.findall('q\\d{1}', leetcodeFile)                       # Checking if file name has a question number (e.g. q1 of the contest)\n",
    "        if not len(temp) == 0 :\n",
    "            title += ' - ' + temp[0]\n",
    "        print(title)\n",
    "\n",
    "    if contest :\n",
    "        categories.add('Contest')\n",
    "    else :\n",
    "        for cat in categories :\n",
    "            if cat.lower() in leetcodeFile.lower() :\n",
    "                categories.add(cat)\n",
    "\n",
    "    counter[(level, language)] = counter.get((level, language), 0) + 1  # For later reference\n",
    "\n",
    "    if number in questionData :                                     # If solution already found for this question\n",
    "        global moreThanOnce\n",
    "        moreThanOnce += 1\n",
    "\n",
    "        questionData[number] = updateQuestion(questionData[number], \n",
    "                                              language=language, \n",
    "                                              categories=categories, \n",
    "                                              notebook_path=join(readme_path, path), \n",
    "                                              readme_path=path)\n",
    "        return True\n",
    "    \n",
    "    questionData[number] = addCase(level=level, \n",
    "                                   number=number, \n",
    "                                   title=title,\n",
    "                                   categories=categories, \n",
    "                                   language=language, \n",
    "                                   notebook_path=join(readme_path, path), \n",
    "                                   readme_path=path)\n",
    "    return True"
   ]
  },
  {
   "cell_type": "code",
   "execution_count": null,
   "metadata": {},
   "outputs": [],
   "source": [
    "# Parsing primary files\n",
    "for leetcodeFile in leetcodeFiles :\n",
    "    parseCase(leetcodeFile=leetcodeFile)"
   ]
  },
  {
   "cell_type": "code",
   "execution_count": null,
   "metadata": {},
   "outputs": [],
   "source": [
    "# Parsing contest files & folforders\n",
    "\n",
    "for leetcodeContestFile in contestLeetcodeFiles :\n",
    "    contestFolder, leetcodeFile = leetcodeContestFile\n",
    "    parseCase(leetcodeFile=leetcodeFile, \n",
    "              altTitle=contestFolder, \n",
    "              subFolderPath=contestFolder, \n",
    "              contest=True)"
   ]
  },
  {
   "cell_type": "code",
   "execution_count": null,
   "metadata": {},
   "outputs": [],
   "source": [
    "# print(easyQuestions)\n",
    "# print(mediumQuestions)\n",
    "# print(hardQuestions)\n",
    "print(questionData)"
   ]
  },
  {
   "cell_type": "code",
   "execution_count": null,
   "metadata": {},
   "outputs": [],
   "source": [
    "# Sorting by question number\n",
    "# easyQuestions   = sorted(easyQuestions,   key=lambda x: x[1])\n",
    "# mediumQuestions = sorted(mediumQuestions, key=lambda x: x[1])\n",
    "# hardQuestions   = sorted(hardQuestions,   key=lambda x: x[1])"
   ]
  },
  {
   "cell_type": "markdown",
   "metadata": {},
   "source": [
    "# List-Based Categories\n",
    "Updating `Category` columns based on the lists in the `Lists` directory."
   ]
  },
  {
   "cell_type": "code",
   "execution_count": null,
   "metadata": {},
   "outputs": [],
   "source": [
    "listsDir = 'Lists/'\n",
    "\n",
    "listFileNames = [x for x in listdir(listsDir) if isfile(join(listsDir, x)) \n",
    "                                                 and not x.startswith('.')\n",
    "                                                 and not x == 'README.md']\n",
    "print(listFileNames)"
   ]
  },
  {
   "cell_type": "code",
   "execution_count": null,
   "metadata": {},
   "outputs": [],
   "source": [
    "''' Format for lists file is as follows:\n",
    "\n",
    "        [Question #]. [Question Name]\n",
    "\n",
    "        [Easy, Med., Hard]\n",
    "        Topic1\n",
    "        Topic2\n",
    "        Topic3\n",
    "        ...\n",
    "'''\n",
    "\n",
    "def getList(fileName, filePath) -> set[int] :\n",
    "    output = set() # can change to dict later if we want to output category info\n",
    "\n",
    "    count = 0\n",
    "    with open(filePath, 'r') as file :\n",
    "        lines = file.readlines()\n",
    "        for line in lines :\n",
    "            if re.match(r'\\d{1,4}\\.', line) :\n",
    "                count += 1\n",
    "                output.add(int(line[:line.find('.')]))\n",
    "    print(f'{fileName}: ', len(output), output)\n",
    "    \n",
    "    return output\n",
    "    "
   ]
  },
  {
   "cell_type": "code",
   "execution_count": null,
   "metadata": {},
   "outputs": [],
   "source": [
    "listData = {}\n",
    "for file in listFileNames :\n",
    "    listData[file] = getList(file, join(listsDir, file))\n",
    "\n",
    "listDataMerged          = {}\n",
    "itemsPerListData        = {}    # Record of how many questions are in each list\n",
    "itemsPerListDataCount   = {}    # Counting how many found in completed questions\n",
    "\n",
    "for listName, val in listData.items() :\n",
    "    itemsPerListDataCount[listName] = 0\n",
    "    itemsPerListData[listName] = len(val)\n",
    "    for question in val :\n",
    "        if question in listDataMerged :\n",
    "            listDataMerged[question] += f', {listName}'\n",
    "        else :\n",
    "            listDataMerged[question] = listName\n",
    "\n",
    "print(listDataMerged)\n",
    "\n",
    "listData = None # Free up memory"
   ]
  },
  {
   "cell_type": "code",
   "execution_count": null,
   "metadata": {},
   "outputs": [],
   "source": [
    "def updateListCount(lists: str) -> None :\n",
    "    lists = lists.split(', ')\n",
    "    for l in lists :\n",
    "        itemsPerListDataCount[l] += 1"
   ]
  },
  {
   "cell_type": "code",
   "execution_count": null,
   "metadata": {},
   "outputs": [],
   "source": [
    "def updateQuestionTypeWithLists(listData: dict[int, str], questions: List[List[str]]) -> None :\n",
    "    for i in range(len(questions)) :\n",
    "        if questions[i][1] in listData :\n",
    "            questions[i] = updateCategory(questions[i], listData[questions[i][1]])\n",
    "            updateListCount(listData[questions[i][1]])"
   ]
  },
  {
   "cell_type": "code",
   "execution_count": null,
   "metadata": {},
   "outputs": [],
   "source": [
    "updateQuestionTypeWithLists(listDataMerged, easyQuestions)\n",
    "updateQuestionTypeWithLists(listDataMerged, mediumQuestions)\n",
    "updateQuestionTypeWithLists(listDataMerged, hardQuestions)\n",
    "\n",
    "print([f'{x}: {itemsPerListDataCount.get(x)}/{itemsPerListData.get(x)}' for x in itemsPerListData])"
   ]
  },
  {
   "cell_type": "markdown",
   "metadata": {},
   "source": [
    "# DataFrames\n",
    "Conversion into DataFrames and declaration of respective column headers occurs here."
   ]
  },
  {
   "cell_type": "code",
   "execution_count": null,
   "metadata": {},
   "outputs": [],
   "source": [
    "columns = ['Level', \n",
    "           '#', \n",
    "           'Title', \n",
    "           'Category',\n",
    "           'Python', \n",
    "           'Java', \n",
    "           'MySQL', \n",
    "           'C',\n",
    "           'Other'\n",
    "           ]\n",
    "typeClarification = {'Level': 'str', \n",
    "                     '#': 'int', \n",
    "                     'Title': 'str', \n",
    "                     'Category': 'str',\n",
    "                     'Python': 'str', \n",
    "                     'Java': 'str', \n",
    "                     'MySQL': 'str', \n",
    "                     'C': 'str',\n",
    "                     'Other': 'str'\n",
    "                     }\n",
    "\n",
    "dfEasy      = kungfupanda.DataFrame(data=easyQuestions, columns=columns)\n",
    "dfMedium    = kungfupanda.DataFrame(data=mediumQuestions, columns=columns)\n",
    "dfHard      = kungfupanda.DataFrame(data=hardQuestions, columns=columns)\n",
    "\n",
    "dfEasy      = dfEasy.astype(typeClarification)\n",
    "dfMedium    = dfMedium.astype(typeClarification)\n",
    "dfHard      = dfHard.astype(typeClarification)\n"
   ]
  },
  {
   "cell_type": "code",
   "execution_count": null,
   "metadata": {},
   "outputs": [],
   "source": [
    "# Helper method for outputing just to make code cleaner\n",
    "def subLevel(level: str) -> str :\n",
    "    match level.lower() :\n",
    "        case 'e' :\n",
    "            return 'Easy'\n",
    "        case 'm' :\n",
    "            return 'Medium'\n",
    "        case 'h' :\n",
    "            return 'Hard'\n",
    "        case _ :\n",
    "            return 'Unknown'"
   ]
  },
  {
   "cell_type": "code",
   "execution_count": null,
   "metadata": {},
   "outputs": [],
   "source": [
    "print(counter, sum(counter.values()))\n",
    "print(len(questionsVisited))\n",
    "print(moreThanOnce)\n",
    "\n",
    "rows = ['e', 'm', 'h']\n",
    "columns = sorted(list(set([x[1] for x in counter.keys()])))\n",
    "\n",
    "# Initialization of stats table + column header initialization\n",
    "statsMatrix     = [[None] * (len(columns) + 2 + 1)] * (len(rows) + 2)\n",
    "statsMatrix[0]  = [''] + \\\n",
    "                  [f'**{x.title()}**' for x in columns] + \\\n",
    "                  ['**Total**', '**Total Unique**']"
   ]
  },
  {
   "cell_type": "markdown",
   "metadata": {},
   "source": [
    "## Stats by Group Parsing\n",
    "Going row by row to calculate the respective values :v"
   ]
  },
  {
   "cell_type": "code",
   "execution_count": null,
   "metadata": {},
   "outputs": [],
   "source": [
    "temp = [easyQuestions, mediumQuestions, hardQuestions] # For summing number of unique question later\n",
    "\n",
    "for i in range(1, len(rows) + 1) :\n",
    "    statsMatrix[i] = [f'**{subLevel(rows[i - 1])}**'] \\\n",
    "                     + [counter.get((rows[i - 1], columns[j]), 0) for j in range(len(columns))] \\\n",
    "                     + [f'*{sum([counter.get((rows[i - 1], x), 0) for x in columns])}*'] \\\n",
    "                     + [f'*{len(temp[i - 1])}*']\n",
    "\n",
    "\n",
    "# Total sums at bottom for each language and TOTAL TOTAL\n",
    "# Total including double counts for languages\n",
    "''' Line by line:   Row Header\n",
    "                    Sum for each language\n",
    "                    Total everything\n",
    "                    Total unique everything\n",
    "'''\n",
    "statsMatrix[-1] = ['**Total**'] \\\n",
    "                  + [f'*{sum([counter.get((x, y), 0) for x in rows])}*' for y in columns] \\\n",
    "                  + [f'**{sum(counter.values())}**'] \\\n",
    "                  + [f'**{sum([len(x) for x in temp])}**']\n",
    "temp = None"
   ]
  },
  {
   "cell_type": "code",
   "execution_count": null,
   "metadata": {},
   "outputs": [],
   "source": [
    "# Conversion to DataFrame\n",
    "dfColumns   = statsMatrix[0]\n",
    "statsMatrix = [statsMatrix[i] for i in range(1, len(statsMatrix))]\n",
    "\n",
    "statsMatrixDf = kungfupanda.DataFrame(data=statsMatrix, columns=dfColumns)\n",
    "print(statsMatrixDf.to_markdown(index=False))"
   ]
  },
  {
   "cell_type": "markdown",
   "metadata": {},
   "source": [
    "# Counts per List\n",
    "These are for lists such as my favourites, the Neetcode150, etc."
   ]
  },
  {
   "cell_type": "code",
   "execution_count": null,
   "metadata": {},
   "outputs": [],
   "source": [
    "# Get alternate names\n",
    "def getAlternateNames() -> dict[str, str] :\n",
    "    output = {}\n",
    "    with open(join(listsDir, '.AltNames'), 'r') as file :\n",
    "        lines = file.readlines()\n",
    "        for line in lines :\n",
    "            line = line.strip()\n",
    "            if len(line) == 0 :\n",
    "                continue\n",
    "            splitLine = line.split('=')\n",
    "            output[splitLine[0]] = ' '.join(splitLine[1:])\n",
    "    print(output)\n",
    "    return output"
   ]
  },
  {
   "cell_type": "code",
   "execution_count": null,
   "metadata": {},
   "outputs": [],
   "source": [
    "# No. Completed / No. Total\n",
    "print([f'{x}: {itemsPerListDataCount.get(x)}/{itemsPerListData.get(x)}' for x in itemsPerListData])\n",
    "\n",
    "altNames = getAlternateNames()\n",
    "\n",
    "listStatOutputs = []\n",
    "for key in itemsPerListData :\n",
    "    altName = altNames.get(key, key)\n",
    "    if altName != key :\n",
    "        altName = f'{altName} ({key})'\n",
    "    listStatOutputs.append(f'- **{altName}**: {itemsPerListDataCount.get(key)}/{itemsPerListData.get(key)}')\n",
    "\n",
    "print(listStatOutputs)"
   ]
  },
  {
   "cell_type": "markdown",
   "metadata": {},
   "source": [
    "# Outputing to README File\n",
    "Takes all the above and overwrites the current [README.md](README.md) file with the data calculated above.\n",
    "\n",
    "Inputs values in order of:\n",
    "- Profile link\n",
    "- Stats\n",
    "- Stat clarification\n",
    "- Question link tables Easy-Medium-Hard\n",
    "\n",
    "Uses the built-in DataFrame `.to_markdown()` for outputting."
   ]
  },
  {
   "cell_type": "code",
   "execution_count": null,
   "metadata": {},
   "outputs": [],
   "source": [
    "readmePath = join(readme_path, 'README.md')\n",
    "print(readmePath)\n",
    "with open(readmePath, 'w') as file :\n",
    "    file.write('# LeetCode Records\\n\\n')\n",
    "\n",
    "    username = getenv('LEETCODE_USERNAME')\n",
    "    file.write(f'Profile: [{username}](https://leetcode.com/u/{username}/)\\n\\n')\n",
    "\n",
    "    file.write('> *Note: if there are multiple files, it\\'s likely a case of me having multiple solutions.*\\n\\n')\n",
    "\n",
    "    file.write('## Stats by Language and Level\\n\\n')\n",
    "    file.write(statsMatrixDf.to_markdown(index=False))\n",
    "    file.write(f'\\n\\nQuestions done in multiple languages and/or multiple ways:\\t{moreThanOnce}\\n<br>')\n",
    "    file.write(f'\\nUnique questions done:\\t\\t**{int(re.sub(\"[^0-9]\", \"\", statsMatrix[len(statsMatrix) - 1][len(statsMatrix[0]) - 2])) - moreThanOnce}**')\n",
    "\n",
    "    file.write('\\n\\n\\n')\n",
    "\n",
    "    file.write('## Category Notes\\n')\n",
    "    file.write('1. **Daily** - Daily challenge questions that were done on the day of\\n')\n",
    "    file.write('2. **Weekly Premium** - Weekly premium questions that were done on week of\\n')\n",
    "    file.write('3. **Contest** - Questions that were done during a live contest\\n')\n",
    "    # file.write('4. **Favourite** - Questions that I liked and wanted to keep a record of\\n')\n",
    "    file.write('\\n')\n",
    "\n",
    "    file.write('## Additional Categories Stats\\n')\n",
    "    file.write('\\n'.join(listStatOutputs))\n",
    "    file.write('\\n\\n')\n",
    "\n",
    "\n",
    "\n",
    "    file.write('## Easy\\n')\n",
    "    file.write(dfEasy.to_markdown(index=False))\n",
    "\n",
    "    file.write('\\n\\n## Medium\\n')\n",
    "    file.write(dfMedium.to_markdown(index=False))\n",
    "\n",
    "    file.write('\\n\\n## Hard\\n')\n",
    "    file.write(dfHard.to_markdown(index=False))"
   ]
  },
  {
   "cell_type": "code",
   "execution_count": null,
   "metadata": {},
   "outputs": [],
   "source": []
  }
 ],
 "metadata": {
  "kernelspec": {
   "display_name": "Python 3",
   "language": "python",
   "name": "python3"
  },
  "language_info": {
   "codemirror_mode": {
    "name": "ipython",
    "version": 3
   },
   "file_extension": ".py",
   "mimetype": "text/x-python",
   "name": "python",
   "nbconvert_exporter": "python",
   "pygments_lexer": "ipython3",
   "version": "3.10.2"
  }
 },
 "nbformat": 4,
 "nbformat_minor": 2
}
